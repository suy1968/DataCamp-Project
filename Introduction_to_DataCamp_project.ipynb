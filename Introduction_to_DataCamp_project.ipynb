{
  "nbformat": 4,
  "nbformat_minor": 0,
  "metadata": {
    "kernelspec": {
      "language": "python",
      "display_name": "Python 3",
      "name": "python3"
    },
    "language_info": {
      "version": "3.5.2",
      "mimetype": "text/x-python",
      "codemirror_mode": {
        "version": 3,
        "name": "ipython"
      },
      "pygments_lexer": "ipython3",
      "name": "python",
      "file_extension": ".py",
      "nbconvert_exporter": "python"
    },
    "colab": {
      "name": "Introduction to DataCamp project.ipynb",
      "provenance": []
    }
  },
  "cells": [
    {
      "cell_type": "markdown",
      "metadata": {
        "deletable": false,
        "editable": false,
        "run_control": {
          "frozen": true
        },
        "tags": [
          "context"
        ],
        "dc": {
          "key": "8c3ba502e2"
        },
        "id": "UDRmNQRMKToc",
        "colab_type": "text"
      },
      "source": [
        "## 1. This is a Jupyter notebook!\n",
        "<p>A <em>Jupyter notebook</em> is a document that contains text cells (what you're reading right now) and code cells. What is special with a notebook is that it's <em>interactive</em>: You can change or add code cells, and then <em>run</em> a cell by first selecting it and then clicking the <em>run cell</em> button above ( <strong>▶|</strong> Run ) or hitting <code>ctrl + enter</code>. </p>\n",
        "<p><img src=\"https://s3.amazonaws.com/assets.datacamp.com/production/project_33/datasets/run_code_cell_image.png\" alt=\"\"></p>\n",
        "<p>The result will be displayed directly in the notebook. You <em>could</em> use a notebook as a simple calculator. For example, it's estimated that on average 256 children were born every minute in 2016. The code cell below calculates how many children were born on average on a day. </p>"
      ]
    },
    {
      "cell_type": "code",
      "metadata": {
        "tags": [
          "sample_code"
        ],
        "dc": {
          "key": "8c3ba502e2"
        },
        "trusted": true,
        "id": "yBiFeDTeKTod",
        "colab_type": "code",
        "colab": {},
        "outputId": "3a556921-1b0f-4260-cc33-2f68eafde306"
      },
      "source": [
        "# I'm a code cell, click me, then run me!\n",
        "256 * 60 * 24 # Children × minutes × hours"
      ],
      "execution_count": null,
      "outputs": [
        {
          "output_type": "execute_result",
          "data": {
            "text/plain": [
              "368640"
            ]
          },
          "metadata": {
            "tags": []
          },
          "execution_count": 22
        }
      ]
    },
    {
      "cell_type": "markdown",
      "metadata": {
        "deletable": false,
        "editable": false,
        "run_control": {
          "frozen": true
        },
        "tags": [
          "context"
        ],
        "dc": {
          "key": "b5ed313abb"
        },
        "id": "wfPGx2h4KToj",
        "colab_type": "text"
      },
      "source": [
        "## 2. Put any code in code cells\n",
        "<p>But a code cell can contain much more than a simple one-liner! This is a notebook running python and you can put <em>any</em> python code in a code cell (but notebooks can run other languages too, like R). Below is a code cell where we define a whole new function (<code>greet</code>). To show the output of <code>greet</code> we run it last in the code cell as the last value is always printed out. </p>"
      ]
    },
    {
      "cell_type": "code",
      "metadata": {
        "tags": [
          "sample_code"
        ],
        "dc": {
          "key": "b5ed313abb"
        },
        "trusted": true,
        "id": "UJQok-XbKTok",
        "colab_type": "code",
        "colab": {},
        "outputId": "14fc9651-8544-4b04-c078-e30f986baa60"
      },
      "source": [
        "def greet(first_name, last_name):\n",
        "    greeting = 'My name is ' + last_name + ', ' + first_name + ' ' + last_name + '!'\n",
        "    return greeting\n",
        "\n",
        "# Replace with your first and last name.\n",
        "# That is, unless your name is already James Bond.\n",
        "greet('James', 'Bond')"
      ],
      "execution_count": null,
      "outputs": [
        {
          "output_type": "execute_result",
          "data": {
            "text/plain": [
              "'My name is Bond, James Bond!'"
            ]
          },
          "metadata": {
            "tags": []
          },
          "execution_count": 24
        }
      ]
    },
    {
      "cell_type": "markdown",
      "metadata": {
        "deletable": false,
        "editable": false,
        "run_control": {
          "frozen": true
        },
        "tags": [
          "context"
        ],
        "dc": {
          "key": "d71cd3b937"
        },
        "id": "B2Z-VkpdKTom",
        "colab_type": "text"
      },
      "source": [
        "## 3. Jupyter notebooks ♡ data\n",
        "<p>We've seen that notebooks can display basic objects such as numbers and strings. But notebooks also support the objects used in data science, which makes them great for interactive data analysis!</p>\n",
        "<p>For example, below we create a <code>pandas</code> DataFrame by reading in a <code>csv</code>-file with the average global temperature for the years 1850 to 2016. If we look at the <code>head</code> of this DataFrame the notebook will render it as a nice-looking table.</p>"
      ]
    },
    {
      "cell_type": "code",
      "metadata": {
        "tags": [
          "sample_code"
        ],
        "dc": {
          "key": "d71cd3b937"
        },
        "trusted": true,
        "id": "VSudW29DKTon",
        "colab_type": "code",
        "colab": {},
        "outputId": "b0a9663f-ce4d-4a9c-d017-afec5cac7800"
      },
      "source": [
        "# Importing the pandas module\n",
        "import pandas as pd\n",
        "\n",
        "# Reading in the global temperature data\n",
        "global_temp = pd.read_csv('datasets/global_temperature.csv')\n",
        "\n",
        "# Take a look at the first datapoints\n",
        "# ... YOUR CODE FOR TASK 3 ...\n",
        "global_temp.head()"
      ],
      "execution_count": null,
      "outputs": [
        {
          "output_type": "execute_result",
          "data": {
            "text/plain": [
              "   year  degrees_celsius\n",
              "0  1850             7.74\n",
              "1  1851             8.09\n",
              "2  1852             7.97\n",
              "3  1853             7.93\n",
              "4  1854             8.19"
            ],
            "text/html": [
              "<div>\n",
              "<style>\n",
              "    .dataframe thead tr:only-child th {\n",
              "        text-align: right;\n",
              "    }\n",
              "\n",
              "    .dataframe thead th {\n",
              "        text-align: left;\n",
              "    }\n",
              "\n",
              "    .dataframe tbody tr th {\n",
              "        vertical-align: top;\n",
              "    }\n",
              "</style>\n",
              "<table border=\"1\" class=\"dataframe\">\n",
              "  <thead>\n",
              "    <tr style=\"text-align: right;\">\n",
              "      <th></th>\n",
              "      <th>year</th>\n",
              "      <th>degrees_celsius</th>\n",
              "    </tr>\n",
              "  </thead>\n",
              "  <tbody>\n",
              "    <tr>\n",
              "      <th>0</th>\n",
              "      <td>1850</td>\n",
              "      <td>7.74</td>\n",
              "    </tr>\n",
              "    <tr>\n",
              "      <th>1</th>\n",
              "      <td>1851</td>\n",
              "      <td>8.09</td>\n",
              "    </tr>\n",
              "    <tr>\n",
              "      <th>2</th>\n",
              "      <td>1852</td>\n",
              "      <td>7.97</td>\n",
              "    </tr>\n",
              "    <tr>\n",
              "      <th>3</th>\n",
              "      <td>1853</td>\n",
              "      <td>7.93</td>\n",
              "    </tr>\n",
              "    <tr>\n",
              "      <th>4</th>\n",
              "      <td>1854</td>\n",
              "      <td>8.19</td>\n",
              "    </tr>\n",
              "  </tbody>\n",
              "</table>\n",
              "</div>"
            ]
          },
          "metadata": {
            "tags": []
          },
          "execution_count": 26
        }
      ]
    },
    {
      "cell_type": "markdown",
      "metadata": {
        "deletable": false,
        "editable": false,
        "run_control": {
          "frozen": true
        },
        "tags": [
          "context"
        ],
        "dc": {
          "key": "4c4219b8e7"
        },
        "id": "JBY8c3e3KToq",
        "colab_type": "text"
      },
      "source": [
        "## 4. Jupyter notebooks ♡ plots\n",
        "<p>Tables are nice but — as the saying goes — <em>\"a plot can show a thousand data points\"</em>. Notebooks handle plots as well, but it requires a bit of magic. Here <em>magic</em> does not refer to any arcane rituals but to so-called \"magic commands\" that affect how the Jupyter notebook works. Magic commands start with either <code>%</code> or <code>%%</code> and the command we need to nicely display plots inline is <code>%matplotlib inline</code>. With this <em>magic</em> in place, all plots created in code cells will automatically be displayed inline. </p>\n",
        "<p>Let's take a look at the global temperature for the last 150 years.</p>"
      ]
    },
    {
      "cell_type": "code",
      "metadata": {
        "tags": [
          "sample_code"
        ],
        "dc": {
          "key": "4c4219b8e7"
        },
        "trusted": true,
        "id": "SSuSK3a3KToq",
        "colab_type": "code",
        "colab": {},
        "outputId": "e1ed6880-67ee-43cf-b98d-b83ced4ad965"
      },
      "source": [
        "# Setting up inline plotting using jupyter notebook \"magic\"\n",
        "%matplotlib inline\n",
        "\n",
        "import matplotlib.pyplot as plt\n",
        "\n",
        "# Plotting global temperature in degrees celsius by year\n",
        "plt.plot(global_temp['year'], global_temp['degrees_celsius'])\n",
        "\n",
        "# Adding some nice labels \n",
        "plt.xlabel('year') \n",
        "plt.ylabel('degree') "
      ],
      "execution_count": null,
      "outputs": [
        {
          "output_type": "execute_result",
          "data": {
            "text/plain": [
              "<matplotlib.text.Text at 0x7f737fb5b0b8>"
            ]
          },
          "metadata": {
            "tags": []
          },
          "execution_count": 28
        },
        {
          "output_type": "display_data",
          "data": {
            "image/png": "[encoded data removed]",
            "text/plain": [
              "<matplotlib.figure.Figure at 0x7f736c396320>"
            ]
          },
          "metadata": {
            "tags": []
          }
        }
      ]
    },
    {
      "cell_type": "markdown",
      "metadata": {
        "deletable": false,
        "editable": false,
        "run_control": {
          "frozen": true
        },
        "tags": [
          "context"
        ],
        "dc": {
          "key": "1df3b07b44"
        },
        "id": "zWTk5xfAKTot",
        "colab_type": "text"
      },
      "source": [
        "## 5. Jupyter notebooks ♡ a lot more\n",
        "<p>Tables and plots are the most common outputs when doing data analysis, but Jupyter notebooks can render many more types of outputs such as sound, animation, video, etc. Yes, almost anything that can be shown in a modern web browser. This also makes it possible to include <em>interactive widgets</em> directly in the notebook!</p>\n",
        "<p>For example, this (slightly complicated) code will create an interactive map showing the locations of the three largest smartphone companies in 2016. You can move and zoom the map, and you can click the markers for more info! </p>"
      ]
    },
    {
      "cell_type": "code",
      "metadata": {
        "tags": [
          "sample_code"
        ],
        "dc": {
          "key": "1df3b07b44"
        },
        "trusted": true,
        "id": "GUkprPtyKTot",
        "colab_type": "code",
        "colab": {},
        "outputId": "cedaf712-46df-4aa5-fb4e-4b2d33b7ba3e"
      },
      "source": [
        "# Making a map using the folium module\n",
        "import folium\n",
        "phone_map = folium.Map()\n",
        "\n",
        "# Top three smart phone companies by market share in 2016\n",
        "companies = [\n",
        "    {'loc': [37.4970,  127.0266], 'label': 'Samsung: ...%'},\n",
        "    {'loc': [37.3318, -122.0311], 'label': 'Apple: ...%'},\n",
        "    {'loc': [22.5431,  114.0579], 'label': 'Huawei: ...%'}] \n",
        "\n",
        "# Adding markers to the map\n",
        "for company in companies:\n",
        "    marker = folium.Marker(location=company['loc'], popup=company['label'])\n",
        "    marker.add_to(phone_map)\n",
        "\n",
        "# The last object in the cell always gets shown in the notebook\n",
        "phone_map"
      ],
      "execution_count": null,
      "outputs": [
        {
          "output_type": "execute_result",
          "data": {
            "text/plain": [
              "<folium.folium.Map at 0x7f736c3d4eb8>"
            ],
            "text/html": [
              "<div style=\"width:100%;\"><div style=\"position:relative;width:100%;height:0;padding-bottom:60%;\"><iframe src=\"data:text/html;charset=utf-8;base64,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\" style=\"position:absolute;width:100%;height:100%;left:0;top:0;border:none !important;\" allowfullscreen webkitallowfullscreen mozallowfullscreen></iframe></div></div>"
            ]
          },
          "metadata": {
            "tags": []
          },
          "execution_count": 30
        }
      ]
    },
    {
      "cell_type": "markdown",
      "metadata": {
        "deletable": false,
        "editable": false,
        "run_control": {
          "frozen": true
        },
        "tags": [
          "context"
        ],
        "dc": {
          "key": "9ccef156d2"
        },
        "id": "QMC0ENY-KTow",
        "colab_type": "text"
      },
      "source": [
        "## 6. Goodbye for now!\n",
        "<p>This was just a short introduction to Jupyter notebooks, an open source technology that is increasingly used for data science and analysis. I hope you enjoyed it! :)</p>"
      ]
    },
    {
      "cell_type": "code",
      "metadata": {
        "tags": [
          "sample_code"
        ],
        "dc": {
          "key": "9ccef156d2"
        },
        "trusted": true,
        "id": "LdpdWRsuKTow",
        "colab_type": "code",
        "colab": {}
      },
      "source": [
        "# Are you ready to get started with  DataCamp projects?\n",
        "I_am_ready = True\n",
        "\n",
        "# Ps. \n",
        "# Feel free to try out any other stuff in this notebook. \n",
        "# It's all yours!"
      ],
      "execution_count": null,
      "outputs": []
    }
  ]
}